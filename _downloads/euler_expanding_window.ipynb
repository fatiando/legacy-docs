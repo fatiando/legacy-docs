{
  "nbformat_minor": 0, 
  "nbformat": 4, 
  "cells": [
    {
      "execution_count": null, 
      "cell_type": "code", 
      "source": [
        "%matplotlib inline"
      ], 
      "outputs": [], 
      "metadata": {
        "collapsed": false
      }
    }, 
    {
      "source": [
        "\nEuler deconvolution with expanding windows\n-------------------------------------------\n\nThe usual approach to Euler deconvolution using a `moving window scheme\n<gallery_euler_mw>` produces a lot of spurious solutions. This is expected\nbecause we are running the deconvolution once per window for the whole area. We\ndon't specify the number of sources that we expect and the deconvolution\ndoesn't give us that information.\n\nAn alternate approach is to use an **expanding window** scheme. It runs the\ndeconvolution on a number of windows expanding from a given central point. We\nchoose only one of the solutions as the final estimate (the one with the\nsmallest error). This approach will give you a single solution. You can\ninterpret multiple bodies by selecting multiple expanding window centers, one\nfor each anomaly.\n\nThe expanding window scheme is implemented in\n:class:`fatiando.gravmag.euler.EulerDeconvEW`.\n\n\n"
      ], 
      "cell_type": "markdown", 
      "metadata": {}
    }, 
    {
      "execution_count": null, 
      "cell_type": "code", 
      "source": [
        "from __future__ import print_function\nfrom fatiando.gravmag import sphere, transform, euler\nfrom fatiando import gridder, utils, mesher\nimport matplotlib.pyplot as plt\nimport numpy as np\n\n# Make some synthetic magnetic data to test our Euler deconvolution.\n# The regional field\ninc, dec = -45, 0\n# Make a model of two spheres magnetized by induction only\nmodel = [\n    mesher.Sphere(x=-1000, y=-1000, z=1500, radius=1000,\n                  props={'magnetization': utils.ang2vec(2, inc, dec)}),\n    mesher.Sphere(x=1000, y=1500, z=1000, radius=1000,\n                  props={'magnetization': utils.ang2vec(1, inc, dec)})]\n# Generate some magnetic data from the model\nshape = (100, 100)\narea = [-5000, 5000, -5000, 5000]\nx, y, z = gridder.regular(area, shape, z=-150)\ndata = sphere.tf(x, y, z, model, inc, dec)\n\n# We also need the derivatives of our data\nxderiv = transform.derivx(x, y, data, shape)\nyderiv = transform.derivy(x, y, data, shape)\nzderiv = transform.derivz(x, y, data, shape)\n\n# Now we can run our Euler deconv solver using expanding windows. We'll run 2\n# solvers, each one expanding windows from points close to the anomalies.\n\n# We use a structural index of 3 to indicate that we think the sources are\n# spheres.\n\n# Make the solver and use fit() to obtain the estimate for the lower right\n# anomaly\nprint(\"Euler solutions:\")\nsol1 = euler.EulerDeconvEW(x, y, z, data, xderiv, yderiv, zderiv,\n                           structural_index=3, center=(-2000, -2000),\n                           sizes=np.linspace(300, 7000, 20))\nsol1.fit()\nprint(\"Lower right anomaly location:\", sol1.estimate_)\n\n# Now run again for the other anomaly\nsol2 = euler.EulerDeconvEW(x, y, z, data, xderiv, yderiv, zderiv,\n                           structural_index=3, center=(2000, 2000),\n                           sizes=np.linspace(300, 7000, 20))\nsol2.fit()\nprint(\"Upper left anomaly location:\", sol2.estimate_)\n\nprint(\"Centers of the model spheres:\")\nprint(model[0].center)\nprint(model[1].center)\n\n# Plot the solutions on top of the magnetic data. Remember that the true depths\n# of the center of these sources is 1500 m and 1000 m.\n\nplt.figure(figsize=(6, 5))\nplt.title('Euler deconvolution with expanding windows')\nplt.contourf(y.reshape(shape), x.reshape(shape), data.reshape(shape), 30,\n             cmap=\"RdBu_r\")\nplt.scatter([sol1.estimate_[1], sol2.estimate_[1]],\n            [sol1.estimate_[0], sol2.estimate_[0]],\n            c=[sol1.estimate_[2], sol2.estimate_[2]],\n            s=50, cmap='cubehelix')\nplt.colorbar(pad=0).set_label('Depth (m)')\nplt.xlim(area[2:])\nplt.ylim(area[:2])\nplt.tight_layout()\nplt.show()\n\n# A cool thing about this scheme is that the window centers do not have to fall\n# on the middle of the anomaly for it to work."
      ], 
      "outputs": [], 
      "metadata": {
        "collapsed": false
      }
    }
  ], 
  "metadata": {
    "kernelspec": {
      "display_name": "Python 2", 
      "name": "python2", 
      "language": "python"
    }, 
    "language_info": {
      "mimetype": "text/x-python", 
      "nbconvert_exporter": "python", 
      "name": "python", 
      "file_extension": ".py", 
      "version": "2.7.12", 
      "pygments_lexer": "ipython2", 
      "codemirror_mode": {
        "version": 2, 
        "name": "ipython"
      }
    }
  }
}