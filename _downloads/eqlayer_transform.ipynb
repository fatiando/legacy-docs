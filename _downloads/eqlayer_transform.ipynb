{
  "nbformat_minor": 0, 
  "nbformat": 4, 
  "cells": [
    {
      "execution_count": null, 
      "cell_type": "code", 
      "source": [
        "%matplotlib inline"
      ], 
      "outputs": [], 
      "metadata": {
        "collapsed": false
      }
    }, 
    {
      "source": [
        "\nEquivalent layer for griding and upward-continuing gravity data\n-------------------------------------------------------------------------\n\nThe equivalent layer is one of the best methods for griding and upward\ncontinuing gravity data and much more. The trade-off is that performing this\nrequires an inversion and later forward modeling, which are more time consuming\nand more difficult to tune than the standard griding and FFT-based approaches.\n\nThis example uses the equivalent layer in :mod:`fatiando.gravmag.eqlayer` to\ngrid and upward continue some gravity data. There are more advanced methods in\nthe module than the one we are showing here. They can be more efficient but\nusually require more configuration.\n\n\n"
      ], 
      "cell_type": "markdown", 
      "metadata": {}
    }, 
    {
      "execution_count": null, 
      "cell_type": "code", 
      "source": [
        "from __future__ import division, print_function\nimport matplotlib.pyplot as plt\nfrom fatiando.gravmag import prism, sphere\nfrom fatiando.gravmag.eqlayer import EQLGravity\nfrom fatiando.inversion import Damping\nfrom fatiando import gridder, utils, mesher\n\n# First thing to do is make some synthetic data to test the method. We'll use a\n# single prism to keep it simple\nprops = {'density': 500}\nmodel = [mesher.Prism(-5000, 5000, -200, 200, 100, 4000, props)]\n\n# The synthetic data will be generated on a random scatter of points\narea = [-8000, 8000, -5000, 5000]\nx, y, z = gridder.scatter(area, 300, z=0, seed=42)\n# Generate some noisy data from our model\ngz = utils.contaminate(prism.gz(x, y, z, model), 0.2, seed=0)\n\n# Now for the equivalent layer. We must setup a layer of point masses where\n# we'll estimate a density distribution that fits our synthetic data\nlayer = mesher.PointGrid(area, 500, (20, 20))\n# Estimate the density using enough damping so that won't try to fit the error\neql = EQLGravity(x, y, z, gz, layer) + 1e-22*Damping(layer.size)\neql.fit()\n# Now we add the estimated densities to our layer\nlayer.addprop('density', eql.estimate_)\n# and print some statistics of how well the estimated layer fits the data\nresiduals = eql[0].residuals()\nprint(\"Residuals:\")\nprint(\"  mean:\", residuals.mean(), 'mGal')\nprint(\"  stddev:\", residuals.std(), 'mGal')\n\n# Now I can forward model gravity data anywhere we want. For interpolation, we\n# calculate it on a grid. For upward continuation, at a greater height. We can\n# even combine both into a single operation.\nx2, y2, z2 = gridder.regular(area, (50, 50), z=-1000)\ngz_up = sphere.gz(x2, y2, z2, layer)\n\n\nfig, axes = plt.subplots(1, 2, figsize=(8, 6))\n\nax = axes[0]\nax.set_title('Original data')\nax.set_aspect('equal')\ntmp = ax.tricontourf(y/1000, x/1000, gz, 30, cmap='cubehelix_r')\nfig.colorbar(tmp, ax=ax, pad=0.1, aspect=30,\n             orientation='horizontal').set_label('mGal')\nax.plot(y/1000, x/1000, 'xk')\nax.set_xlabel('y (km)')\nax.set_ylabel('x (km)')\n\nax = axes[1]\nax.set_title('Gridded and upward continued')\nax.set_aspect('equal')\ntmp = ax.tricontourf(y2/1000, x2/1000, gz_up, 30, cmap='cubehelix_r')\nfig.colorbar(tmp, ax=ax, pad=0.1, aspect=30,\n             orientation='horizontal').set_label('mGal')\nax.set_xlabel('y (km)')\n\nplt.tight_layout()\nplt.show()"
      ], 
      "outputs": [], 
      "metadata": {
        "collapsed": false
      }
    }
  ], 
  "metadata": {
    "kernelspec": {
      "display_name": "Python 2", 
      "name": "python2", 
      "language": "python"
    }, 
    "language_info": {
      "mimetype": "text/x-python", 
      "nbconvert_exporter": "python", 
      "name": "python", 
      "file_extension": ".py", 
      "version": "2.7.12", 
      "pygments_lexer": "ipython2", 
      "codemirror_mode": {
        "version": 2, 
        "name": "ipython"
      }
    }
  }
}