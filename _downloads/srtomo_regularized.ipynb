{
  "nbformat_minor": 0, 
  "nbformat": 4, 
  "cells": [
    {
      "execution_count": null, 
      "cell_type": "code", 
      "source": [
        "%matplotlib inline"
      ], 
      "outputs": [], 
      "metadata": {
        "collapsed": false
      }
    }, 
    {
      "source": [
        "\nStraight-ray toy tomography with different regularization\n-------------------------------------------------------------\n\nA very simplified way of playing around with tomography is through a\nstraight-ray approximation. If we assume that the seismic rays don't bend when\nthey encounter a change in velocity (i.e., no refraction), then the inversion\nbecomes linear and much simpler to solve. It is a good example to illustrate\nhow different forms of regularization impact the estimated velocity model.\n\nThis simple tomography is implemented in the\n:class:`~fatiando.seismic.srtomo.SRTomo` class. The example below uses 3 forms\nof regularization to invert a synthetic data-set.\n\n\n"
      ], 
      "cell_type": "markdown", 
      "metadata": {}
    }, 
    {
      "execution_count": null, 
      "cell_type": "code", 
      "source": [
        "import numpy as np\nimport matplotlib.pyplot as plt\nfrom fatiando.mesher import SquareMesh\nfrom fatiando.seismic import ttime2d, srtomo\nfrom fatiando.inversion import Smoothness2D, Damping, TotalVariation2D\nfrom fatiando import utils, gridder\n\n# First, we'll create a simple model with a high velocity square in the middle\narea = (0, 500000, 0, 500000)\nshape = (30, 30)\nmodel = SquareMesh(area, shape)\nvel = 4000 * np.ones(shape)\nvel[5:25, 5:25] = 10000\nmodel.addprop('vp', vel.ravel())\n\n# Make some noisy travel time data using straight-rays\n# Set the random seed so that points are the same every time we run this script\nseed = 0\nsrc_loc_x, src_loc_y = gridder.scatter(area, 80, seed=seed)\nsrc_loc = np.transpose([src_loc_x, src_loc_y])\nrec_loc_x, rec_loc_y = gridder.circular_scatter(area, 30,\n                                                random=True, seed=seed)\nrec_loc = np.transpose([rec_loc_x, rec_loc_y])\nsrcs = [src for src in src_loc for _ in rec_loc]\nrecs = [rec for _ in src_loc for rec in rec_loc]\ntts = ttime2d.straight(model, 'vp', srcs, recs)\n# Use 2% random noise to corrupt the data\ntts = utils.contaminate(tts, 0.02, percent=True, seed=seed)\n\n# Make a mesh for the inversion. The inversion will estimate the velocity in\n# each square of the mesh. To make things simpler, we'll use a mesh that is the\n# same as our original model.\nmesh = SquareMesh(area, shape)\n\n# Create solvers for each type of regularization and fit the synthetic data to\n# obtain an estimated velocity model\nsolver = srtomo.SRTomo(tts, srcs, recs, mesh)\n\nsmooth = solver + 1e8*Smoothness2D(mesh.shape)\nsmooth.fit()\n\ndamped = solver + 1e8*Damping(mesh.size)\ndamped.fit()\n\nsharp = solver + 30*TotalVariation2D(1e-10, mesh.shape)\n# Since Total Variation is a non-linear regularizing function, then the\n# tomography becomes non-linear as well. We need to configure the inversion to\n# use the Levemberg-Marquardt algorithm, a gradient descent method, that\n# requires an initial estimate\nsharp.config('levmarq', initial=0.00001*np.ones(mesh.size)).fit()\n\n# Plot the original model and the 3 estimates using the same color bar\nfig, axes = plt.subplots(2, 2, figsize=(8, 7), sharex='all', sharey='all')\n\nx = model.get_xs()/1000\ny = model.get_ys()/1000\nvmin, vmax = vel.min(), vel.max()\n\nax = axes[0, 0]\nax.set_title('True model')\nax.pcolormesh(x, y, vel, cmap='Greens', vmin=vmin, vmax=vmax)\nax.plot(src_loc[:, 0]/1000, src_loc[:, 1]/1000, '+k', label='Earthquakes')\nax.plot(rec_loc[:, 0]/1000, rec_loc[:, 1]/1000, '^k', label='Receivers')\nax.legend(loc='upper right', numpoints=1)\n\nax = axes[0, 1]\nax.set_title('Damped solution')\nax.pcolormesh(x, y, damped.estimate_.reshape(shape), cmap='Greens', vmin=vmin,\n              vmax=vmax)\n\nax = axes[1, 0]\nax.set_title('Smooth solution')\nax.pcolormesh(x, y, smooth.estimate_.reshape(shape), cmap='Greens', vmin=vmin,\n              vmax=vmax)\n\nax = axes[1, 1]\nax.set_title('Sharp solution')\nax.pcolormesh(x, y, sharp.estimate_.reshape(shape), cmap='Greens', vmin=vmin,\n              vmax=vmax)\n\nplt.tight_layout()\nplt.show()"
      ], 
      "outputs": [], 
      "metadata": {
        "collapsed": false
      }
    }
  ], 
  "metadata": {
    "kernelspec": {
      "display_name": "Python 2", 
      "name": "python2", 
      "language": "python"
    }, 
    "language_info": {
      "mimetype": "text/x-python", 
      "nbconvert_exporter": "python", 
      "name": "python", 
      "file_extension": ".py", 
      "version": "2.7.12", 
      "pygments_lexer": "ipython2", 
      "codemirror_mode": {
        "version": 2, 
        "name": "ipython"
      }
    }
  }
}