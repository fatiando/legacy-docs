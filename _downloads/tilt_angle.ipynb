{
  "nbformat_minor": 0, 
  "nbformat": 4, 
  "cells": [
    {
      "execution_count": null, 
      "cell_type": "code", 
      "source": [
        "%matplotlib inline"
      ], 
      "outputs": [], 
      "metadata": {
        "collapsed": false
      }
    }, 
    {
      "source": [
        "\nTilt angle of magnetic anomalies\n--------------------------------\n\nThe tilt angle is a useful transformation of potential field data for boundary\ndetection. It is commonly used with reduced-to-the-pole total field magnetic\nanomaly data. We'll test the :func:`fatiando.gravmag.transform.tilt` function\non some synthetic magnetic data. For simplicity here, we'll assume that our\ndata is already reduced to the pole. You can use\n:func:`fatiando.gravmag.transform.reduce_to_pole` to reduce your data.\n\nThe zero contour of the tilt is said to outline the body so we've plotted it as\na dashed line on the tilt map.\n\n"
      ], 
      "cell_type": "markdown", 
      "metadata": {}
    }, 
    {
      "execution_count": null, 
      "cell_type": "code", 
      "source": [
        "from __future__ import division, print_function\nimport matplotlib.pyplot as plt\nfrom fatiando.gravmag import prism, transform\nfrom fatiando.mesher import Prism\nfrom fatiando import gridder, utils\n\n# Create some synthetic magnetic data. We'll assume the data is already reduced\n# to the pole.\ninc, dec = 90, 0\nmag = utils.ang2vec(1, inc, dec)\nmodel = [Prism(-1500, 1500, -500, 500, 0, 2000, {'magnetization': mag})]\narea = (-7e3, 7e3, -7e3, 7e3)\nshape = (100, 100)\nx, y, z = gridder.regular(area, shape, z=-300)\ndata_at_pole = prism.tf(x, y, z, model, inc, dec)\n\n# Calculate the tilt\ntilt = transform.tilt(x, y, data_at_pole, shape)\n\n# Make some plots\nplt.figure(figsize=(8, 6))\n\nax = plt.subplot(1, 2, 1)\nax.set_title('Original data at the pole')\nax.set_aspect('equal')\ntmp = ax.tricontourf(y/1000, x/1000, data_at_pole, 30, cmap='RdBu_r')\nplt.colorbar(tmp, pad=0.1, aspect=30, orientation='horizontal').set_label('nT')\nax.set_xlabel('y (km)')\nax.set_ylabel('x (km)')\nax.set_xlim(area[2]/1000, area[3]/1000)\nax.set_ylim(area[0]/1000, area[1]/1000)\n\nax = plt.subplot(1, 2, 2)\nax.set_title('Tilt angle')\nax.set_aspect('equal')\ntmp = ax.tricontourf(y/1000, x/1000, tilt, 30, cmap='RdBu_r')\nplt.colorbar(tmp, pad=0.1, aspect=30,\n             orientation='horizontal').set_label('radians')\n# Plot the tilt zero contour\nax.tricontour(y/1000, x/1000, tilt, levels=[0], colors='k', linestyles='--',\n              linewidths=1)\nax.set_xlabel('y (km)')\nax.set_xlim(area[2]/1000, area[3]/1000)\nax.set_ylim(area[0]/1000, area[1]/1000)\n\nplt.tight_layout()\nplt.show()"
      ], 
      "outputs": [], 
      "metadata": {
        "collapsed": false
      }
    }
  ], 
  "metadata": {
    "kernelspec": {
      "display_name": "Python 2", 
      "name": "python2", 
      "language": "python"
    }, 
    "language_info": {
      "mimetype": "text/x-python", 
      "nbconvert_exporter": "python", 
      "name": "python", 
      "file_extension": ".py", 
      "version": "2.7.12", 
      "pygments_lexer": "ipython2", 
      "codemirror_mode": {
        "version": 2, 
        "name": "ipython"
      }
    }
  }
}