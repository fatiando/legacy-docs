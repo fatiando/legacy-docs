{
  "nbformat_minor": 0, 
  "nbformat": 4, 
  "cells": [
    {
      "execution_count": null, 
      "cell_type": "code", 
      "source": [
        "%matplotlib inline"
      ], 
      "outputs": [], 
      "metadata": {
        "collapsed": false
      }
    }, 
    {
      "source": [
        "\nRegular grids\n-------------\n\nYou can create the (x, y, z) coordinate arrays for regular grids using\n:func:`fatiando.gridder.regular`.\n\n\n"
      ], 
      "cell_type": "markdown", 
      "metadata": {}
    }, 
    {
      "execution_count": null, 
      "cell_type": "code", 
      "source": [
        "from __future__ import print_function\nfrom fatiando import gridder\nimport matplotlib.pyplot as plt\n\n# Define the area of the grid in meters: [x1, x2, y1, y2]\narea = [0, 10e3, -5e3, 5e3]\n# The shape is the number of points in the grid: (nx, ny)\nshape = (5, 9)\n\nx, y = gridder.regular(area, shape)\n\n# x and y are 1d arrays with the coordinates of each point in the grid\nprint('x =', x)\nprint('y =', y)\n\n# Optionally, you can generate a 3rd array with constant z values\n# (remember that z is positive downward)\nx, y, z = gridder.regular(area, shape, z=-150)\nprint('z =', z)\n\nplt.figure(figsize=(6, 5))\nplt.title('Regular grid')\n# In Fatiando, x is North and y is East.\n# So we should plot x in the vertical axis and y in horizontal.\nplt.plot(y, x, 'ok')\nplt.xlabel('y (m)')\nplt.ylabel('x (m)')\nplt.xlim(-6e3, 6e3)\nplt.ylim(-1e3, 11e3)\nplt.grid(True)\nplt.tight_layout()\nplt.show()"
      ], 
      "outputs": [], 
      "metadata": {
        "collapsed": false
      }
    }
  ], 
  "metadata": {
    "kernelspec": {
      "display_name": "Python 2", 
      "name": "python2", 
      "language": "python"
    }, 
    "language_info": {
      "mimetype": "text/x-python", 
      "nbconvert_exporter": "python", 
      "name": "python", 
      "file_extension": ".py", 
      "version": "2.7.12", 
      "pygments_lexer": "ipython2", 
      "codemirror_mode": {
        "version": 2, 
        "name": "ipython"
      }
    }
  }
}