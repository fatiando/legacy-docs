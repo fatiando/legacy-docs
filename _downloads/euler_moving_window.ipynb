{
  "nbformat_minor": 0, 
  "nbformat": 4, 
  "cells": [
    {
      "execution_count": null, 
      "cell_type": "code", 
      "source": [
        "%matplotlib inline"
      ], 
      "outputs": [], 
      "metadata": {
        "collapsed": false
      }
    }, 
    {
      "source": [
        "\n\nEuler deconvolution with a moving window\n----------------------------------------\n\nEuler deconvolution attempts to estimate the coordinates of simple (idealized)\nsources from the input potential field data. There is a strong assumption that\nthe sources have simple geometries, like spheres, vertical pipes, vertical\nplanes, etc. So it wouldn't be much of a surprise if the solutions aren't great\nwhen sources are complex.\n\nLet's test the Euler deconvolution using a moving window scheme, a very common\napproach used in all industry software. This is implemented in\n:class:`fatiando.gravmag.euler.EulerDeconvMW`.\n\n\n\n"
      ], 
      "cell_type": "markdown", 
      "metadata": {}
    }, 
    {
      "execution_count": null, 
      "cell_type": "code", 
      "source": [
        "from __future__ import print_function\nfrom fatiando.gravmag import sphere, transform, euler\nfrom fatiando import gridder, utils, mesher\nimport matplotlib.pyplot as plt\n\n# Make some synthetic magnetic data to test our Euler deconvolution.\n# The regional field\ninc, dec = -45, 0\n# Make a model of two spheres magnetized by induction only\nmodel = [\n    mesher.Sphere(x=-1000, y=-1000, z=1500, radius=1000,\n                  props={'magnetization': utils.ang2vec(2, inc, dec)}),\n    mesher.Sphere(x=1000, y=1500, z=1000, radius=1000,\n                  props={'magnetization': utils.ang2vec(1, inc, dec)})]\n\nprint(\"Centers of the model spheres:\")\nprint(model[0].center)\nprint(model[1].center)\n\n# Generate some magnetic data from the model\nshape = (100, 100)\narea = [-5000, 5000, -5000, 5000]\nx, y, z = gridder.regular(area, shape, z=-150)\ndata = sphere.tf(x, y, z, model, inc, dec)\n\n# We also need the derivatives of our data\nxderiv = transform.derivx(x, y, data, shape)\nyderiv = transform.derivy(x, y, data, shape)\nzderiv = transform.derivz(x, y, data, shape)\n\n# Now we can run our Euler deconv solver on a moving window over the data.\n# Each window will produce an estimated point for the source.\n# We use a structural index of 3 to indicate that we think the sources are\n# spheres.\n\n# Run the Euler deconvolution on moving windows to produce a set of solutions\n# by running the solver on 10 x 10 windows of size 1000 x 1000 m\nsolver = euler.EulerDeconvMW(x, y, z, data, xderiv, yderiv, zderiv,\n                             structural_index=3, windows=(10, 10),\n                             size=(1000, 1000))\n# Use the fit() method to obtain the estimates\nsolver.fit()\n\n# The estimated positions are stored as a list of [x, y, z] coordinates\n# (actually a 2D numpy array)\nprint('Kept Euler solutions after the moving window scheme:')\nprint(solver.estimate_)\n\n# Plot the solutions on top of the magnetic data. Remember that the true depths\n# of the center of these sources is 1500 m and 1000 m.\n\nplt.figure(figsize=(6, 5))\nplt.title('Euler deconvolution with a moving window')\nplt.contourf(y.reshape(shape), x.reshape(shape), data.reshape(shape), 30,\n             cmap=\"RdBu_r\")\nplt.scatter(solver.estimate_[:, 1], solver.estimate_[:, 0],\n            s=50, c=solver.estimate_[:, 2], cmap='cubehelix')\nplt.colorbar(pad=0).set_label('Depth (m)')\nplt.xlim(area[2:])\nplt.ylim(area[:2])\nplt.tight_layout()\nplt.show()"
      ], 
      "outputs": [], 
      "metadata": {
        "collapsed": false
      }
    }
  ], 
  "metadata": {
    "kernelspec": {
      "display_name": "Python 2", 
      "name": "python2", 
      "language": "python"
    }, 
    "language_info": {
      "mimetype": "text/x-python", 
      "nbconvert_exporter": "python", 
      "name": "python", 
      "file_extension": ".py", 
      "version": "2.7.12", 
      "pygments_lexer": "ipython2", 
      "codemirror_mode": {
        "version": 2, 
        "name": "ipython"
      }
    }
  }
}